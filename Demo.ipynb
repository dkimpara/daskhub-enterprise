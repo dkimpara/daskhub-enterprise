{
 "cells": [
  {
   "cell_type": "code",
   "execution_count": 2,
   "id": "633fcb62-1011-4012-a73f-14816b80a7ea",
   "metadata": {},
   "outputs": [
    {
     "data": {
      "application/vnd.jupyter.widget-view+json": {
       "model_id": "eb8394ca0251449180c108ba909026ad",
       "version_major": 2,
       "version_minor": 0
      },
      "text/plain": [
       "VBox(children=(HTML(value='<h2>GatewayCluster</h2>'), HBox(children=(HTML(value='\\n<div>\\n<style scoped>\\n    …"
      ]
     },
     "metadata": {},
     "output_type": "display_data"
    }
   ],
   "source": [
    "import os\n",
    "import redis\n",
    "import json\n",
    "import numpy as np\n",
    "from dask_gateway import GatewayCluster\n",
    "cluster = GatewayCluster()\n",
    "client = cluster.get_client()\n",
    "redisHost = os.getenv(\"REDIS_HOST\") if \"REDIS_HOST\" in os.environ else 'localhost'\n",
    "cluster.scale(2)"
   ]
  },
  {
   "cell_type": "markdown",
   "id": "9a4d590f-7a6c-4262-940e-41d726559a24",
   "metadata": {},
   "source": [
    "### click the link in the field Dashboard: after running the command below"
   ]
  },
  {
   "cell_type": "code",
   "execution_count": null,
   "id": "39ba74a0-13e8-45e8-b4f1-373ec6724408",
   "metadata": {},
   "outputs": [],
   "source": [
    "cluster"
   ]
  },
  {
   "cell_type": "code",
   "execution_count": 21,
   "id": "6fab4226-696a-4a51-b1ab-b7b954005eb6",
   "metadata": {},
   "outputs": [],
   "source": [
    "def getdb():\n",
    "    r = redis.Redis(host=redisHost,\n",
    "                        port=6379, db=0)\n",
    "    return r"
   ]
  },
  {
   "cell_type": "code",
   "execution_count": 22,
   "id": "72fb9e49-8896-48b6-b709-2440d5d18e0e",
   "metadata": {},
   "outputs": [],
   "source": [
    "#max string size is 512 mb\n",
    "def dump_array(nparray):\n",
    "    return json.dumps(nparray.tolist())\n",
    "    \n",
    "def decode_array(encStr):\n",
    "    return np.asarray(json.loads(encStr))\n",
    "\n",
    "def array_to_db(db, array, name):\n",
    "    # we will store arrays as strings.\n",
    "    db.set(name, dump_array(array))\n",
    "    \n",
    "def get_array(db, name):\n",
    "    encStr = db.get(name)\n",
    "    return decode_array(encStr)"
   ]
  },
  {
   "cell_type": "code",
   "execution_count": 23,
   "id": "3e2a929b-b4f2-4f83-8a98-1b86fcedbd40",
   "metadata": {},
   "outputs": [],
   "source": [
    "db = getdb()"
   ]
  },
  {
   "cell_type": "markdown",
   "id": "51b914ad-b27b-4cf8-b45b-4b129afd5685",
   "metadata": {},
   "source": [
    "# Compute the SVD of a Tall-and-Skinny Matrix"
   ]
  },
  {
   "cell_type": "code",
   "execution_count": 24,
   "id": "c3a77499-5bfe-442e-bb64-f83513ff7edb",
   "metadata": {},
   "outputs": [],
   "source": [
    "import dask.array as da\n",
    "X = da.random.random((2000000, 100), chunks=(10000, 100)).persist()"
   ]
  },
  {
   "cell_type": "code",
   "execution_count": 25,
   "id": "9f8c9fae-39e9-4dc8-b4fe-291ca0529c2c",
   "metadata": {},
   "outputs": [],
   "source": [
    "import dask\n",
    "\n",
    "u, s, v = da.linalg.svd(X)\n"
   ]
  },
  {
   "cell_type": "code",
   "execution_count": 26,
   "id": "05b117f7-7d6c-4757-9a4c-6f1c5ca2f535",
   "metadata": {},
   "outputs": [],
   "source": [
    "result = v.compute()"
   ]
  },
  {
   "cell_type": "code",
   "execution_count": 27,
   "id": "f77cbdd4-c34b-4e86-b1ea-07df6097faf8",
   "metadata": {},
   "outputs": [
    {
     "data": {
      "text/plain": [
       "array([[ 0.10000143,  0.10003522,  0.09999744, ...,  0.09998082,\n",
       "         0.10007407,  0.09999955],\n",
       "       [-0.05414751,  0.13247819, -0.18712968, ..., -0.05485667,\n",
       "        -0.02666097,  0.079013  ],\n",
       "       [-0.00843602,  0.1909191 ,  0.0304151 , ..., -0.07306165,\n",
       "         0.00371681,  0.04871533],\n",
       "       ...,\n",
       "       [ 0.13871317, -0.00167558, -0.12080768, ...,  0.11907913,\n",
       "        -0.07532528, -0.03493167],\n",
       "       [-0.09249286, -0.02106935, -0.06796025, ..., -0.11619282,\n",
       "         0.05354037, -0.10194138],\n",
       "       [ 0.06265146, -0.0564253 , -0.06042728, ...,  0.01978495,\n",
       "        -0.10526863,  0.10554614]])"
      ]
     },
     "execution_count": 27,
     "metadata": {},
     "output_type": "execute_result"
    }
   ],
   "source": [
    "result"
   ]
  },
  {
   "cell_type": "markdown",
   "id": "0a2dc1ea-a185-4f31-a2da-df9c2bad26cb",
   "metadata": {},
   "source": [
    "## put the result into the database"
   ]
  },
  {
   "cell_type": "code",
   "execution_count": 31,
   "id": "a38c165e-4756-4782-852c-9d6a3ca712eb",
   "metadata": {},
   "outputs": [],
   "source": [
    "array_to_db(db,result,'demo2')"
   ]
  },
  {
   "cell_type": "code",
   "execution_count": 32,
   "id": "7f904222-cca2-4e38-b423-eae450e3ce33",
   "metadata": {},
   "outputs": [],
   "source": [
    "zstored = get_array(db,'demo2')"
   ]
  },
  {
   "cell_type": "code",
   "execution_count": 33,
   "id": "32c3034f-76ba-4cf4-a4f2-b4ac8c4c334b",
   "metadata": {},
   "outputs": [
    {
     "data": {
      "text/plain": [
       "array([[ 0.10000143,  0.10003522,  0.09999744, ...,  0.09998082,\n",
       "         0.10007407,  0.09999955],\n",
       "       [-0.05414751,  0.13247819, -0.18712968, ..., -0.05485667,\n",
       "        -0.02666097,  0.079013  ],\n",
       "       [-0.00843602,  0.1909191 ,  0.0304151 , ..., -0.07306165,\n",
       "         0.00371681,  0.04871533],\n",
       "       ...,\n",
       "       [ 0.13871317, -0.00167558, -0.12080768, ...,  0.11907913,\n",
       "        -0.07532528, -0.03493167],\n",
       "       [-0.09249286, -0.02106935, -0.06796025, ..., -0.11619282,\n",
       "         0.05354037, -0.10194138],\n",
       "       [ 0.06265146, -0.0564253 , -0.06042728, ...,  0.01978495,\n",
       "        -0.10526863,  0.10554614]])"
      ]
     },
     "execution_count": 33,
     "metadata": {},
     "output_type": "execute_result"
    }
   ],
   "source": [
    "zstored"
   ]
  },
  {
   "cell_type": "code",
   "execution_count": null,
   "id": "79191d08-f24c-42a5-b207-4635fdefc267",
   "metadata": {},
   "outputs": [],
   "source": []
  },
  {
   "cell_type": "code",
   "execution_count": null,
   "id": "829a5e7f-a9c7-4831-9c4c-a93338625099",
   "metadata": {},
   "outputs": [],
   "source": []
  },
  {
   "cell_type": "code",
   "execution_count": null,
   "id": "f6ff17e9-0170-4a92-8ee9-260aa2fb1c4f",
   "metadata": {},
   "outputs": [],
   "source": []
  }
 ],
 "metadata": {
  "kernelspec": {
   "display_name": "Python 3",
   "language": "python",
   "name": "python3"
  },
  "language_info": {
   "codemirror_mode": {
    "name": "ipython",
    "version": 3
   },
   "file_extension": ".py",
   "mimetype": "text/x-python",
   "name": "python",
   "nbconvert_exporter": "python",
   "pygments_lexer": "ipython3",
   "version": "3.8.10"
  }
 },
 "nbformat": 4,
 "nbformat_minor": 5
}
